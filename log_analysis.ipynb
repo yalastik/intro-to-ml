{
 "cells": [
  {
   "cell_type": "code",
   "execution_count": 97,
   "metadata": {},
   "outputs": [],
   "source": [
    "import numpy as np\n",
    "from scipy.stats import norm, ttest_ind"
   ]
  },
  {
   "cell_type": "code",
   "execution_count": 98,
   "metadata": {},
   "outputs": [],
   "source": [
    "# implementation for mapreducer iterable\n",
    "def iter_group(queue):\n",
    "    buf = []\n",
    "    prev_key = None\n",
    "\n",
    "    for val in queue:\n",
    "        cur_key, cur_val = val\n",
    "        #print cur_key, cur_val\n",
    "        if cur_key == prev_key or prev_key is None:\n",
    "            buf.append(cur_val)\n",
    "        else:\n",
    "            yield prev_key, buf\n",
    "            buf = []\n",
    "            buf.append(cur_val)\n",
    "        prev_key = cur_key\n",
    "\n",
    "    if buf:\n",
    "        yield cur_key, buf\n",
    "\n"
   ]
  },
  {
   "cell_type": "code",
   "execution_count": 99,
   "metadata": {},
   "outputs": [],
   "source": [
    "# mapreducer class - adding new elements to the map, reducing the map \n",
    "class MapReduce:\n",
    "    def __init__(self):\n",
    "        self.queue = []\n",
    "\n",
    "#         adding new elements into the map\n",
    "    def add(self, a,b):\n",
    "        self.queue.append((a,b))\n",
    "\n",
    "    def count(self):\n",
    "        return len(self.queue)    \n",
    "\n",
    "#     mapreducer should be iterable \n",
    "    def __iter__(self):\n",
    "        return iter_group(sorted(self.queue))\n"
   ]
  },
  {
   "cell_type": "code",
   "execution_count": 100,
   "metadata": {},
   "outputs": [],
   "source": [
    "x = MapReduce()"
   ]
  },
  {
   "cell_type": "markdown",
   "metadata": {},
   "source": [
    "Reading log.txt, adding each line's info into the mapreduce object"
   ]
  },
  {
   "cell_type": "code",
   "execution_count": 103,
   "metadata": {},
   "outputs": [],
   "source": [
    "def mapper(filename='log.txt', map_reduce=x):\n",
    "    with open(filename,'r') as f:\n",
    "        for line in f:\n",
    "            words = line.strip().split(',')\n",
    "            map_reduce.add(words[1],float(words[2]))"
   ]
  },
  {
   "cell_type": "code",
   "execution_count": 104,
   "metadata": {},
   "outputs": [],
   "source": [
    "mapper(map_reduce=x)"
   ]
  },
  {
   "cell_type": "markdown",
   "metadata": {},
   "source": [
    "Reducing the map by counting mean values for each request frequencies, calculating its confidence interval + calculating T-test for the means of two independent samples of request types '/index' and '/test'"
   ]
  },
  {
   "cell_type": "code",
   "execution_count": 105,
   "metadata": {},
   "outputs": [],
   "source": [
    "def reducer(map_reduce=x):\n",
    "    means = []\n",
    "    X = []\n",
    "    Y = []\n",
    "#     calculating confidence interval with scipy.stats.norm.interval (supposing normal distribution in data)\n",
    "    for word, freqs in map_reduce:\n",
    "        means.append((word, np.mean(freqs), \n",
    "                      norm.interval(alpha=0.95, loc=np.mean(freqs), scale=np.std(freqs)/np.sqrt(len(freqs)))))\n",
    "        if word == '/index':\n",
    "            X = freqs\n",
    "        if word == '/test':\n",
    "            Y = freqs\n",
    "#     suppose we have to data sets with equal unlnown variance\n",
    "# let's apply student's test to examine the hypothesis that 2 independent samples have identical average \n",
    "    _, p_value = ttest_ind(X, Y)\n",
    "    return means, p_value"
   ]
  },
  {
   "cell_type": "markdown",
   "metadata": {},
   "source": [
    "Printing result to 'output.txt'"
   ]
  },
  {
   "cell_type": "code",
   "execution_count": 106,
   "metadata": {},
   "outputs": [],
   "source": [
    "with open('output.txt', 'w') as f:\n",
    "    means, p_value = reducer(x)\n",
    "    print(means,file=f)\n",
    "    if p_value < 0.05:\n",
    "        print('reject the null hypothesis of equal averagesas p-value {:05.3f} < 0.05 - confidence level' .format(p_value), file=f)\n",
    "    else:\n",
    "        print('cannot reject the null hypothesis of identical average scores as p-value {:05.3f} > 0.05 - confidence level' .format(p_value), file=f)"
   ]
  },
  {
   "cell_type": "code",
   "execution_count": null,
   "metadata": {},
   "outputs": [],
   "source": []
  }
 ],
 "metadata": {
  "kernelspec": {
   "display_name": "Python 3",
   "language": "python",
   "name": "python3"
  },
  "language_info": {
   "codemirror_mode": {
    "name": "ipython",
    "version": 3
   },
   "file_extension": ".py",
   "mimetype": "text/x-python",
   "name": "python",
   "nbconvert_exporter": "python",
   "pygments_lexer": "ipython3",
   "version": "3.6.4"
  }
 },
 "nbformat": 4,
 "nbformat_minor": 2
}
