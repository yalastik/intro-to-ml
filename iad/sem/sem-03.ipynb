{
 "cells": [
  {
   "cell_type": "markdown",
   "metadata": {},
   "source": [
    "# Курс \"Введение в анализ данных\", весна 2018\n",
    "## Семинар 3. Scikit-learn"
   ]
  },
  {
   "cell_type": "code",
   "execution_count": 1,
   "metadata": {
    "collapsed": true
   },
   "outputs": [],
   "source": [
    "import numpy as np"
   ]
  },
  {
   "cell_type": "markdown",
   "metadata": {},
   "source": [
    "На этом семинаре мы: \n",
    "- познакомимся с популярной библиотекой для машинного обучения [scikit-learn](http://scikit-learn.org/stable/);\n",
    "- поговорим про оценку качества алгоритмов и кросс-валидацию;\n",
    "- решим несколько простых задач машинного обучения с помощью scikit-learn."
   ]
  },
  {
   "cell_type": "code",
   "execution_count": null,
   "metadata": {
    "collapsed": true
   },
   "outputs": [],
   "source": [
    "np."
   ]
  },
  {
   "cell_type": "markdown",
   "metadata": {},
   "source": [
    "scikit-learn — это библиотека...:\n",
    "- с большинством популярных и не очень алгоритмов машинного обучения с __единым интерфейсом работы__;\n",
    "- с большинством необходимым для машинного обучения вспомогательных утилит (преобразование признаков, метрики для оценки качества, ...);\n",
    "- с подробной документацией и множеством примеров решения задач.\n",
    "\n",
    "Можно сказать, что почти любой алгоритм, с которым вы столкнётесь (если это не связано со свежей статьёй или нейросетями), уже реализован в scikit-learn. Не бойтесь лезть в поисковик или [документацию](http://scikit-learn.org/stable/)."
   ]
  },
  {
   "cell_type": "markdown",
   "metadata": {},
   "source": [
    "__Начнём.__\n",
    "\n",
    "Импортируем необходимые библиотеки:"
   ]
  },
  {
   "cell_type": "code",
   "execution_count": 2,
   "metadata": {},
   "outputs": [
    {
     "name": "stdout",
     "output_type": "stream",
     "text": [
      "Populating the interactive namespace from numpy and matplotlib\n"
     ]
    }
   ],
   "source": [
    "%pylab inline\n",
    "import pandas as pd"
   ]
  },
  {
   "cell_type": "markdown",
   "metadata": {},
   "source": [
    "Посмотрим на разделы:"
   ]
  },
  {
   "cell_type": "code",
   "execution_count": 3,
   "metadata": {
    "collapsed": true
   },
   "outputs": [],
   "source": [
    "from sklearn import datasets"
   ]
  },
  {
   "cell_type": "markdown",
   "metadata": {},
   "source": [
    "- datasets — \"игрушечные датасеты\", функции для генерации или загрузки выборок\n",
    "- feature_extraction — функции для извлечения признаков\n",
    "- linear_model — линейный модели машинного обучения\n",
    "- metrics — метрики для оценки качества алгоритмов\n",
    "- preprocessing — преобразование признаков\n",
    "- ..."
   ]
  },
  {
   "cell_type": "markdown",
   "metadata": {},
   "source": [
    "Можно даже подходить к решению задач с помощью scikit-learn по следующей схеме. Хотя на самом деле она вам вряд ли понадобится (базовое представление будет и так в вашей голове).\n",
    "![](sklearn_scheme.jpg)"
   ]
  },
  {
   "cell_type": "markdown",
   "metadata": {},
   "source": [
    "Давайте решим несколько задач машинного обучения с помощью scikit-learn и убедимся, что разные виды задач решаются сходим образом. "
   ]
  },
  {
   "cell_type": "markdown",
   "metadata": {},
   "source": [
    "### Задача классификации"
   ]
  },
  {
   "cell_type": "markdown",
   "metadata": {},
   "source": [
    "Воспользуемся стандартным набором данных для классификации цветков ириса на 3 класса."
   ]
  },
  {
   "cell_type": "code",
   "execution_count": 6,
   "metadata": {
    "collapsed": true
   },
   "outputs": [
    {
     "data": {
      "text/plain": [
       "{'DESCR': 'Iris Plants Database\\n====================\\n\\nNotes\\n-----\\nData Set Characteristics:\\n    :Number of Instances: 150 (50 in each of three classes)\\n    :Number of Attributes: 4 numeric, predictive attributes and the class\\n    :Attribute Information:\\n        - sepal length in cm\\n        - sepal width in cm\\n        - petal length in cm\\n        - petal width in cm\\n        - class:\\n                - Iris-Setosa\\n                - Iris-Versicolour\\n                - Iris-Virginica\\n    :Summary Statistics:\\n\\n    ============== ==== ==== ======= ===== ====================\\n                    Min  Max   Mean    SD   Class Correlation\\n    ============== ==== ==== ======= ===== ====================\\n    sepal length:   4.3  7.9   5.84   0.83    0.7826\\n    sepal width:    2.0  4.4   3.05   0.43   -0.4194\\n    petal length:   1.0  6.9   3.76   1.76    0.9490  (high!)\\n    petal width:    0.1  2.5   1.20  0.76     0.9565  (high!)\\n    ============== ==== ==== ======= ===== ====================\\n\\n    :Missing Attribute Values: None\\n    :Class Distribution: 33.3% for each of 3 classes.\\n    :Creator: R.A. Fisher\\n    :Donor: Michael Marshall (MARSHALL%PLU@io.arc.nasa.gov)\\n    :Date: July, 1988\\n\\nThis is a copy of UCI ML iris datasets.\\nhttp://archive.ics.uci.edu/ml/datasets/Iris\\n\\nThe famous Iris database, first used by Sir R.A Fisher\\n\\nThis is perhaps the best known database to be found in the\\npattern recognition literature.  Fisher\\'s paper is a classic in the field and\\nis referenced frequently to this day.  (See Duda & Hart, for example.)  The\\ndata set contains 3 classes of 50 instances each, where each class refers to a\\ntype of iris plant.  One class is linearly separable from the other 2; the\\nlatter are NOT linearly separable from each other.\\n\\nReferences\\n----------\\n   - Fisher,R.A. \"The use of multiple measurements in taxonomic problems\"\\n     Annual Eugenics, 7, Part II, 179-188 (1936); also in \"Contributions to\\n     Mathematical Statistics\" (John Wiley, NY, 1950).\\n   - Duda,R.O., & Hart,P.E. (1973) Pattern Classification and Scene Analysis.\\n     (Q327.D83) John Wiley & Sons.  ISBN 0-471-22361-1.  See page 218.\\n   - Dasarathy, B.V. (1980) \"Nosing Around the Neighborhood: A New System\\n     Structure and Classification Rule for Recognition in Partially Exposed\\n     Environments\".  IEEE Transactions on Pattern Analysis and Machine\\n     Intelligence, Vol. PAMI-2, No. 1, 67-71.\\n   - Gates, G.W. (1972) \"The Reduced Nearest Neighbor Rule\".  IEEE Transactions\\n     on Information Theory, May 1972, 431-433.\\n   - See also: 1988 MLC Proceedings, 54-64.  Cheeseman et al\"s AUTOCLASS II\\n     conceptual clustering system finds 3 classes in the data.\\n   - Many, many more ...\\n',\n",
       " 'data': array([[ 5.1,  3.5,  1.4,  0.2],\n",
       "        [ 4.9,  3. ,  1.4,  0.2],\n",
       "        [ 4.7,  3.2,  1.3,  0.2],\n",
       "        [ 4.6,  3.1,  1.5,  0.2],\n",
       "        [ 5. ,  3.6,  1.4,  0.2],\n",
       "        [ 5.4,  3.9,  1.7,  0.4],\n",
       "        [ 4.6,  3.4,  1.4,  0.3],\n",
       "        [ 5. ,  3.4,  1.5,  0.2],\n",
       "        [ 4.4,  2.9,  1.4,  0.2],\n",
       "        [ 4.9,  3.1,  1.5,  0.1],\n",
       "        [ 5.4,  3.7,  1.5,  0.2],\n",
       "        [ 4.8,  3.4,  1.6,  0.2],\n",
       "        [ 4.8,  3. ,  1.4,  0.1],\n",
       "        [ 4.3,  3. ,  1.1,  0.1],\n",
       "        [ 5.8,  4. ,  1.2,  0.2],\n",
       "        [ 5.7,  4.4,  1.5,  0.4],\n",
       "        [ 5.4,  3.9,  1.3,  0.4],\n",
       "        [ 5.1,  3.5,  1.4,  0.3],\n",
       "        [ 5.7,  3.8,  1.7,  0.3],\n",
       "        [ 5.1,  3.8,  1.5,  0.3],\n",
       "        [ 5.4,  3.4,  1.7,  0.2],\n",
       "        [ 5.1,  3.7,  1.5,  0.4],\n",
       "        [ 4.6,  3.6,  1. ,  0.2],\n",
       "        [ 5.1,  3.3,  1.7,  0.5],\n",
       "        [ 4.8,  3.4,  1.9,  0.2],\n",
       "        [ 5. ,  3. ,  1.6,  0.2],\n",
       "        [ 5. ,  3.4,  1.6,  0.4],\n",
       "        [ 5.2,  3.5,  1.5,  0.2],\n",
       "        [ 5.2,  3.4,  1.4,  0.2],\n",
       "        [ 4.7,  3.2,  1.6,  0.2],\n",
       "        [ 4.8,  3.1,  1.6,  0.2],\n",
       "        [ 5.4,  3.4,  1.5,  0.4],\n",
       "        [ 5.2,  4.1,  1.5,  0.1],\n",
       "        [ 5.5,  4.2,  1.4,  0.2],\n",
       "        [ 4.9,  3.1,  1.5,  0.1],\n",
       "        [ 5. ,  3.2,  1.2,  0.2],\n",
       "        [ 5.5,  3.5,  1.3,  0.2],\n",
       "        [ 4.9,  3.1,  1.5,  0.1],\n",
       "        [ 4.4,  3. ,  1.3,  0.2],\n",
       "        [ 5.1,  3.4,  1.5,  0.2],\n",
       "        [ 5. ,  3.5,  1.3,  0.3],\n",
       "        [ 4.5,  2.3,  1.3,  0.3],\n",
       "        [ 4.4,  3.2,  1.3,  0.2],\n",
       "        [ 5. ,  3.5,  1.6,  0.6],\n",
       "        [ 5.1,  3.8,  1.9,  0.4],\n",
       "        [ 4.8,  3. ,  1.4,  0.3],\n",
       "        [ 5.1,  3.8,  1.6,  0.2],\n",
       "        [ 4.6,  3.2,  1.4,  0.2],\n",
       "        [ 5.3,  3.7,  1.5,  0.2],\n",
       "        [ 5. ,  3.3,  1.4,  0.2],\n",
       "        [ 7. ,  3.2,  4.7,  1.4],\n",
       "        [ 6.4,  3.2,  4.5,  1.5],\n",
       "        [ 6.9,  3.1,  4.9,  1.5],\n",
       "        [ 5.5,  2.3,  4. ,  1.3],\n",
       "        [ 6.5,  2.8,  4.6,  1.5],\n",
       "        [ 5.7,  2.8,  4.5,  1.3],\n",
       "        [ 6.3,  3.3,  4.7,  1.6],\n",
       "        [ 4.9,  2.4,  3.3,  1. ],\n",
       "        [ 6.6,  2.9,  4.6,  1.3],\n",
       "        [ 5.2,  2.7,  3.9,  1.4],\n",
       "        [ 5. ,  2. ,  3.5,  1. ],\n",
       "        [ 5.9,  3. ,  4.2,  1.5],\n",
       "        [ 6. ,  2.2,  4. ,  1. ],\n",
       "        [ 6.1,  2.9,  4.7,  1.4],\n",
       "        [ 5.6,  2.9,  3.6,  1.3],\n",
       "        [ 6.7,  3.1,  4.4,  1.4],\n",
       "        [ 5.6,  3. ,  4.5,  1.5],\n",
       "        [ 5.8,  2.7,  4.1,  1. ],\n",
       "        [ 6.2,  2.2,  4.5,  1.5],\n",
       "        [ 5.6,  2.5,  3.9,  1.1],\n",
       "        [ 5.9,  3.2,  4.8,  1.8],\n",
       "        [ 6.1,  2.8,  4. ,  1.3],\n",
       "        [ 6.3,  2.5,  4.9,  1.5],\n",
       "        [ 6.1,  2.8,  4.7,  1.2],\n",
       "        [ 6.4,  2.9,  4.3,  1.3],\n",
       "        [ 6.6,  3. ,  4.4,  1.4],\n",
       "        [ 6.8,  2.8,  4.8,  1.4],\n",
       "        [ 6.7,  3. ,  5. ,  1.7],\n",
       "        [ 6. ,  2.9,  4.5,  1.5],\n",
       "        [ 5.7,  2.6,  3.5,  1. ],\n",
       "        [ 5.5,  2.4,  3.8,  1.1],\n",
       "        [ 5.5,  2.4,  3.7,  1. ],\n",
       "        [ 5.8,  2.7,  3.9,  1.2],\n",
       "        [ 6. ,  2.7,  5.1,  1.6],\n",
       "        [ 5.4,  3. ,  4.5,  1.5],\n",
       "        [ 6. ,  3.4,  4.5,  1.6],\n",
       "        [ 6.7,  3.1,  4.7,  1.5],\n",
       "        [ 6.3,  2.3,  4.4,  1.3],\n",
       "        [ 5.6,  3. ,  4.1,  1.3],\n",
       "        [ 5.5,  2.5,  4. ,  1.3],\n",
       "        [ 5.5,  2.6,  4.4,  1.2],\n",
       "        [ 6.1,  3. ,  4.6,  1.4],\n",
       "        [ 5.8,  2.6,  4. ,  1.2],\n",
       "        [ 5. ,  2.3,  3.3,  1. ],\n",
       "        [ 5.6,  2.7,  4.2,  1.3],\n",
       "        [ 5.7,  3. ,  4.2,  1.2],\n",
       "        [ 5.7,  2.9,  4.2,  1.3],\n",
       "        [ 6.2,  2.9,  4.3,  1.3],\n",
       "        [ 5.1,  2.5,  3. ,  1.1],\n",
       "        [ 5.7,  2.8,  4.1,  1.3],\n",
       "        [ 6.3,  3.3,  6. ,  2.5],\n",
       "        [ 5.8,  2.7,  5.1,  1.9],\n",
       "        [ 7.1,  3. ,  5.9,  2.1],\n",
       "        [ 6.3,  2.9,  5.6,  1.8],\n",
       "        [ 6.5,  3. ,  5.8,  2.2],\n",
       "        [ 7.6,  3. ,  6.6,  2.1],\n",
       "        [ 4.9,  2.5,  4.5,  1.7],\n",
       "        [ 7.3,  2.9,  6.3,  1.8],\n",
       "        [ 6.7,  2.5,  5.8,  1.8],\n",
       "        [ 7.2,  3.6,  6.1,  2.5],\n",
       "        [ 6.5,  3.2,  5.1,  2. ],\n",
       "        [ 6.4,  2.7,  5.3,  1.9],\n",
       "        [ 6.8,  3. ,  5.5,  2.1],\n",
       "        [ 5.7,  2.5,  5. ,  2. ],\n",
       "        [ 5.8,  2.8,  5.1,  2.4],\n",
       "        [ 6.4,  3.2,  5.3,  2.3],\n",
       "        [ 6.5,  3. ,  5.5,  1.8],\n",
       "        [ 7.7,  3.8,  6.7,  2.2],\n",
       "        [ 7.7,  2.6,  6.9,  2.3],\n",
       "        [ 6. ,  2.2,  5. ,  1.5],\n",
       "        [ 6.9,  3.2,  5.7,  2.3],\n",
       "        [ 5.6,  2.8,  4.9,  2. ],\n",
       "        [ 7.7,  2.8,  6.7,  2. ],\n",
       "        [ 6.3,  2.7,  4.9,  1.8],\n",
       "        [ 6.7,  3.3,  5.7,  2.1],\n",
       "        [ 7.2,  3.2,  6. ,  1.8],\n",
       "        [ 6.2,  2.8,  4.8,  1.8],\n",
       "        [ 6.1,  3. ,  4.9,  1.8],\n",
       "        [ 6.4,  2.8,  5.6,  2.1],\n",
       "        [ 7.2,  3. ,  5.8,  1.6],\n",
       "        [ 7.4,  2.8,  6.1,  1.9],\n",
       "        [ 7.9,  3.8,  6.4,  2. ],\n",
       "        [ 6.4,  2.8,  5.6,  2.2],\n",
       "        [ 6.3,  2.8,  5.1,  1.5],\n",
       "        [ 6.1,  2.6,  5.6,  1.4],\n",
       "        [ 7.7,  3. ,  6.1,  2.3],\n",
       "        [ 6.3,  3.4,  5.6,  2.4],\n",
       "        [ 6.4,  3.1,  5.5,  1.8],\n",
       "        [ 6. ,  3. ,  4.8,  1.8],\n",
       "        [ 6.9,  3.1,  5.4,  2.1],\n",
       "        [ 6.7,  3.1,  5.6,  2.4],\n",
       "        [ 6.9,  3.1,  5.1,  2.3],\n",
       "        [ 5.8,  2.7,  5.1,  1.9],\n",
       "        [ 6.8,  3.2,  5.9,  2.3],\n",
       "        [ 6.7,  3.3,  5.7,  2.5],\n",
       "        [ 6.7,  3. ,  5.2,  2.3],\n",
       "        [ 6.3,  2.5,  5. ,  1.9],\n",
       "        [ 6.5,  3. ,  5.2,  2. ],\n",
       "        [ 6.2,  3.4,  5.4,  2.3],\n",
       "        [ 5.9,  3. ,  5.1,  1.8]]),\n",
       " 'feature_names': ['sepal length (cm)',\n",
       "  'sepal width (cm)',\n",
       "  'petal length (cm)',\n",
       "  'petal width (cm)'],\n",
       " 'target': array([0, 0, 0, 0, 0, 0, 0, 0, 0, 0, 0, 0, 0, 0, 0, 0, 0, 0, 0, 0, 0, 0, 0,\n",
       "        0, 0, 0, 0, 0, 0, 0, 0, 0, 0, 0, 0, 0, 0, 0, 0, 0, 0, 0, 0, 0, 0, 0,\n",
       "        0, 0, 0, 0, 1, 1, 1, 1, 1, 1, 1, 1, 1, 1, 1, 1, 1, 1, 1, 1, 1, 1, 1,\n",
       "        1, 1, 1, 1, 1, 1, 1, 1, 1, 1, 1, 1, 1, 1, 1, 1, 1, 1, 1, 1, 1, 1, 1,\n",
       "        1, 1, 1, 1, 1, 1, 1, 1, 2, 2, 2, 2, 2, 2, 2, 2, 2, 2, 2, 2, 2, 2, 2,\n",
       "        2, 2, 2, 2, 2, 2, 2, 2, 2, 2, 2, 2, 2, 2, 2, 2, 2, 2, 2, 2, 2, 2, 2,\n",
       "        2, 2, 2, 2, 2, 2, 2, 2, 2, 2, 2, 2]),\n",
       " 'target_names': array(['setosa', 'versicolor', 'virginica'], \n",
       "       dtype='|S10')}"
      ]
     },
     "execution_count": 6,
     "metadata": {},
     "output_type": "execute_result"
    }
   ],
   "source": [
    "from sklearn.datasets import load_iris\n",
    "\n",
    "iris = load_iris()\n",
    "iris"
   ]
  },
  {
   "cell_type": "code",
   "execution_count": 8,
   "metadata": {
    "scrolled": true
   },
   "outputs": [
    {
     "data": {
      "text/plain": [
       "array([[ 5.1,  3.5,  1.4,  0.2],\n",
       "       [ 4.9,  3. ,  1.4,  0.2],\n",
       "       [ 4.7,  3.2,  1.3,  0.2],\n",
       "       [ 4.6,  3.1,  1.5,  0.2],\n",
       "       [ 5. ,  3.6,  1.4,  0.2],\n",
       "       [ 5.4,  3.9,  1.7,  0.4],\n",
       "       [ 4.6,  3.4,  1.4,  0.3],\n",
       "       [ 5. ,  3.4,  1.5,  0.2],\n",
       "       [ 4.4,  2.9,  1.4,  0.2],\n",
       "       [ 4.9,  3.1,  1.5,  0.1],\n",
       "       [ 5.4,  3.7,  1.5,  0.2],\n",
       "       [ 4.8,  3.4,  1.6,  0.2],\n",
       "       [ 4.8,  3. ,  1.4,  0.1],\n",
       "       [ 4.3,  3. ,  1.1,  0.1],\n",
       "       [ 5.8,  4. ,  1.2,  0.2],\n",
       "       [ 5.7,  4.4,  1.5,  0.4],\n",
       "       [ 5.4,  3.9,  1.3,  0.4],\n",
       "       [ 5.1,  3.5,  1.4,  0.3],\n",
       "       [ 5.7,  3.8,  1.7,  0.3],\n",
       "       [ 5.1,  3.8,  1.5,  0.3],\n",
       "       [ 5.4,  3.4,  1.7,  0.2],\n",
       "       [ 5.1,  3.7,  1.5,  0.4],\n",
       "       [ 4.6,  3.6,  1. ,  0.2],\n",
       "       [ 5.1,  3.3,  1.7,  0.5],\n",
       "       [ 4.8,  3.4,  1.9,  0.2],\n",
       "       [ 5. ,  3. ,  1.6,  0.2],\n",
       "       [ 5. ,  3.4,  1.6,  0.4],\n",
       "       [ 5.2,  3.5,  1.5,  0.2],\n",
       "       [ 5.2,  3.4,  1.4,  0.2],\n",
       "       [ 4.7,  3.2,  1.6,  0.2],\n",
       "       [ 4.8,  3.1,  1.6,  0.2],\n",
       "       [ 5.4,  3.4,  1.5,  0.4],\n",
       "       [ 5.2,  4.1,  1.5,  0.1],\n",
       "       [ 5.5,  4.2,  1.4,  0.2],\n",
       "       [ 4.9,  3.1,  1.5,  0.1],\n",
       "       [ 5. ,  3.2,  1.2,  0.2],\n",
       "       [ 5.5,  3.5,  1.3,  0.2],\n",
       "       [ 4.9,  3.1,  1.5,  0.1],\n",
       "       [ 4.4,  3. ,  1.3,  0.2],\n",
       "       [ 5.1,  3.4,  1.5,  0.2],\n",
       "       [ 5. ,  3.5,  1.3,  0.3],\n",
       "       [ 4.5,  2.3,  1.3,  0.3],\n",
       "       [ 4.4,  3.2,  1.3,  0.2],\n",
       "       [ 5. ,  3.5,  1.6,  0.6],\n",
       "       [ 5.1,  3.8,  1.9,  0.4],\n",
       "       [ 4.8,  3. ,  1.4,  0.3],\n",
       "       [ 5.1,  3.8,  1.6,  0.2],\n",
       "       [ 4.6,  3.2,  1.4,  0.2],\n",
       "       [ 5.3,  3.7,  1.5,  0.2],\n",
       "       [ 5. ,  3.3,  1.4,  0.2],\n",
       "       [ 7. ,  3.2,  4.7,  1.4],\n",
       "       [ 6.4,  3.2,  4.5,  1.5],\n",
       "       [ 6.9,  3.1,  4.9,  1.5],\n",
       "       [ 5.5,  2.3,  4. ,  1.3],\n",
       "       [ 6.5,  2.8,  4.6,  1.5],\n",
       "       [ 5.7,  2.8,  4.5,  1.3],\n",
       "       [ 6.3,  3.3,  4.7,  1.6],\n",
       "       [ 4.9,  2.4,  3.3,  1. ],\n",
       "       [ 6.6,  2.9,  4.6,  1.3],\n",
       "       [ 5.2,  2.7,  3.9,  1.4],\n",
       "       [ 5. ,  2. ,  3.5,  1. ],\n",
       "       [ 5.9,  3. ,  4.2,  1.5],\n",
       "       [ 6. ,  2.2,  4. ,  1. ],\n",
       "       [ 6.1,  2.9,  4.7,  1.4],\n",
       "       [ 5.6,  2.9,  3.6,  1.3],\n",
       "       [ 6.7,  3.1,  4.4,  1.4],\n",
       "       [ 5.6,  3. ,  4.5,  1.5],\n",
       "       [ 5.8,  2.7,  4.1,  1. ],\n",
       "       [ 6.2,  2.2,  4.5,  1.5],\n",
       "       [ 5.6,  2.5,  3.9,  1.1],\n",
       "       [ 5.9,  3.2,  4.8,  1.8],\n",
       "       [ 6.1,  2.8,  4. ,  1.3],\n",
       "       [ 6.3,  2.5,  4.9,  1.5],\n",
       "       [ 6.1,  2.8,  4.7,  1.2],\n",
       "       [ 6.4,  2.9,  4.3,  1.3],\n",
       "       [ 6.6,  3. ,  4.4,  1.4],\n",
       "       [ 6.8,  2.8,  4.8,  1.4],\n",
       "       [ 6.7,  3. ,  5. ,  1.7],\n",
       "       [ 6. ,  2.9,  4.5,  1.5],\n",
       "       [ 5.7,  2.6,  3.5,  1. ],\n",
       "       [ 5.5,  2.4,  3.8,  1.1],\n",
       "       [ 5.5,  2.4,  3.7,  1. ],\n",
       "       [ 5.8,  2.7,  3.9,  1.2],\n",
       "       [ 6. ,  2.7,  5.1,  1.6],\n",
       "       [ 5.4,  3. ,  4.5,  1.5],\n",
       "       [ 6. ,  3.4,  4.5,  1.6],\n",
       "       [ 6.7,  3.1,  4.7,  1.5],\n",
       "       [ 6.3,  2.3,  4.4,  1.3],\n",
       "       [ 5.6,  3. ,  4.1,  1.3],\n",
       "       [ 5.5,  2.5,  4. ,  1.3],\n",
       "       [ 5.5,  2.6,  4.4,  1.2],\n",
       "       [ 6.1,  3. ,  4.6,  1.4],\n",
       "       [ 5.8,  2.6,  4. ,  1.2],\n",
       "       [ 5. ,  2.3,  3.3,  1. ],\n",
       "       [ 5.6,  2.7,  4.2,  1.3],\n",
       "       [ 5.7,  3. ,  4.2,  1.2],\n",
       "       [ 5.7,  2.9,  4.2,  1.3],\n",
       "       [ 6.2,  2.9,  4.3,  1.3],\n",
       "       [ 5.1,  2.5,  3. ,  1.1],\n",
       "       [ 5.7,  2.8,  4.1,  1.3],\n",
       "       [ 6.3,  3.3,  6. ,  2.5],\n",
       "       [ 5.8,  2.7,  5.1,  1.9],\n",
       "       [ 7.1,  3. ,  5.9,  2.1],\n",
       "       [ 6.3,  2.9,  5.6,  1.8],\n",
       "       [ 6.5,  3. ,  5.8,  2.2],\n",
       "       [ 7.6,  3. ,  6.6,  2.1],\n",
       "       [ 4.9,  2.5,  4.5,  1.7],\n",
       "       [ 7.3,  2.9,  6.3,  1.8],\n",
       "       [ 6.7,  2.5,  5.8,  1.8],\n",
       "       [ 7.2,  3.6,  6.1,  2.5],\n",
       "       [ 6.5,  3.2,  5.1,  2. ],\n",
       "       [ 6.4,  2.7,  5.3,  1.9],\n",
       "       [ 6.8,  3. ,  5.5,  2.1],\n",
       "       [ 5.7,  2.5,  5. ,  2. ],\n",
       "       [ 5.8,  2.8,  5.1,  2.4],\n",
       "       [ 6.4,  3.2,  5.3,  2.3],\n",
       "       [ 6.5,  3. ,  5.5,  1.8],\n",
       "       [ 7.7,  3.8,  6.7,  2.2],\n",
       "       [ 7.7,  2.6,  6.9,  2.3],\n",
       "       [ 6. ,  2.2,  5. ,  1.5],\n",
       "       [ 6.9,  3.2,  5.7,  2.3],\n",
       "       [ 5.6,  2.8,  4.9,  2. ],\n",
       "       [ 7.7,  2.8,  6.7,  2. ],\n",
       "       [ 6.3,  2.7,  4.9,  1.8],\n",
       "       [ 6.7,  3.3,  5.7,  2.1],\n",
       "       [ 7.2,  3.2,  6. ,  1.8],\n",
       "       [ 6.2,  2.8,  4.8,  1.8],\n",
       "       [ 6.1,  3. ,  4.9,  1.8],\n",
       "       [ 6.4,  2.8,  5.6,  2.1],\n",
       "       [ 7.2,  3. ,  5.8,  1.6],\n",
       "       [ 7.4,  2.8,  6.1,  1.9],\n",
       "       [ 7.9,  3.8,  6.4,  2. ],\n",
       "       [ 6.4,  2.8,  5.6,  2.2],\n",
       "       [ 6.3,  2.8,  5.1,  1.5],\n",
       "       [ 6.1,  2.6,  5.6,  1.4],\n",
       "       [ 7.7,  3. ,  6.1,  2.3],\n",
       "       [ 6.3,  3.4,  5.6,  2.4],\n",
       "       [ 6.4,  3.1,  5.5,  1.8],\n",
       "       [ 6. ,  3. ,  4.8,  1.8],\n",
       "       [ 6.9,  3.1,  5.4,  2.1],\n",
       "       [ 6.7,  3.1,  5.6,  2.4],\n",
       "       [ 6.9,  3.1,  5.1,  2.3],\n",
       "       [ 5.8,  2.7,  5.1,  1.9],\n",
       "       [ 6.8,  3.2,  5.9,  2.3],\n",
       "       [ 6.7,  3.3,  5.7,  2.5],\n",
       "       [ 6.7,  3. ,  5.2,  2.3],\n",
       "       [ 6.3,  2.5,  5. ,  1.9],\n",
       "       [ 6.5,  3. ,  5.2,  2. ],\n",
       "       [ 6.2,  3.4,  5.4,  2.3],\n",
       "       [ 5.9,  3. ,  5.1,  1.8]])"
      ]
     },
     "execution_count": 8,
     "metadata": {},
     "output_type": "execute_result"
    }
   ],
   "source": [
    "X = iris['data']\n",
    "iris['data'].shape\n",
    "X"
   ]
  },
  {
   "cell_type": "markdown",
   "metadata": {},
   "source": [
    "То есть выборка состоит из 150 объектов и 4 признаков. Признаки:"
   ]
  },
  {
   "cell_type": "code",
   "execution_count": 6,
   "metadata": {},
   "outputs": [
    {
     "data": {
      "text/plain": [
       "['sepal length (cm)',\n",
       " 'sepal width (cm)',\n",
       " 'petal length (cm)',\n",
       " 'petal width (cm)']"
      ]
     },
     "execution_count": 6,
     "metadata": {},
     "output_type": "execute_result"
    }
   ],
   "source": [
    "iris['feature_names']"
   ]
  },
  {
   "cell_type": "markdown",
   "metadata": {},
   "source": [
    "Целевая переменная и названия классов:"
   ]
  },
  {
   "cell_type": "code",
   "execution_count": 9,
   "metadata": {},
   "outputs": [
    {
     "data": {
      "text/plain": [
       "array([0, 0, 0, 0, 0, 0, 0, 0, 0, 0, 0, 0, 0, 0, 0, 0, 0, 0, 0, 0, 0, 0, 0,\n",
       "       0, 0, 0, 0, 0, 0, 0, 0, 0, 0, 0, 0, 0, 0, 0, 0, 0, 0, 0, 0, 0, 0, 0,\n",
       "       0, 0, 0, 0, 1, 1, 1, 1, 1, 1, 1, 1, 1, 1, 1, 1, 1, 1, 1, 1, 1, 1, 1,\n",
       "       1, 1, 1, 1, 1, 1, 1, 1, 1, 1, 1, 1, 1, 1, 1, 1, 1, 1, 1, 1, 1, 1, 1,\n",
       "       1, 1, 1, 1, 1, 1, 1, 1, 2, 2, 2, 2, 2, 2, 2, 2, 2, 2, 2, 2, 2, 2, 2,\n",
       "       2, 2, 2, 2, 2, 2, 2, 2, 2, 2, 2, 2, 2, 2, 2, 2, 2, 2, 2, 2, 2, 2, 2,\n",
       "       2, 2, 2, 2, 2, 2, 2, 2, 2, 2, 2, 2])"
      ]
     },
     "execution_count": 9,
     "metadata": {},
     "output_type": "execute_result"
    }
   ],
   "source": [
    "y = iris['target']\n",
    "iris['target']"
   ]
  },
  {
   "cell_type": "code",
   "execution_count": 20,
   "metadata": {},
   "outputs": [
    {
     "data": {
      "text/plain": [
       "array(['setosa', 'versicolor', 'virginica'], \n",
       "      dtype='|S10')"
      ]
     },
     "execution_count": 20,
     "metadata": {},
     "output_type": "execute_result"
    }
   ],
   "source": [
    "iris['target_names']"
   ]
  },
  {
   "cell_type": "markdown",
   "metadata": {},
   "source": [
    "Посмотрим на распределение двух признаков:"
   ]
  },
  {
   "cell_type": "code",
   "execution_count": 7,
   "metadata": {},
   "outputs": [
    {
     "data": {
      "image/png": "[encoded data removed]",
      "text/plain": [
       "<matplotlib.figure.Figure at 0xe1d6b38>"
      ]
     },
     "metadata": {},
     "output_type": "display_data"
    }
   ],
   "source": [
    "x_index = 0\n",
    "y_index = 1\n",
    "\n",
    "# this formatter will label the colorbar with the correct target names\n",
    "formatter = plt.FuncFormatter(lambda i, *args: iris.target_names[int(i)])\n",
    "\n",
    "plt.scatter(iris.data[:, x_index], iris.data[:, y_index],\n",
    "            c=iris.target, cmap=plt.cm.get_cmap('RdYlBu', 3))\n",
    "plt.colorbar(ticks=[0, 1, 2], format=formatter)\n",
    "plt.clim(-0.5, 2.5)\n",
    "plt.xlabel(iris.feature_names[x_index])\n",
    "plt.ylabel(iris.feature_names[y_index])\n",
    "plt.show()"
   ]
  },
  {
   "cell_type": "markdown",
   "metadata": {},
   "source": [
    "Заметим, что уже по этим двум признакам визуально можно резделить часть объектов на классы. \n",
    "\n",
    "Построим решающее дерево, классифицирующее объекты (не будем вдаваться в подробности этого метода). Импортируем его:"
   ]
  },
  {
   "cell_type": "code",
   "execution_count": 10,
   "metadata": {
    "collapsed": true
   },
   "outputs": [],
   "source": [
    "from sklearn.tree import DecisionTreeClassifier"
   ]
  },
  {
   "cell_type": "markdown",
   "metadata": {},
   "source": [
    "Обучим и сделаем предсказания:"
   ]
  },
  {
   "cell_type": "code",
   "execution_count": 11,
   "metadata": {},
   "outputs": [
    {
     "data": {
      "text/plain": [
       "(150L,)"
      ]
     },
     "execution_count": 11,
     "metadata": {},
     "output_type": "execute_result"
    }
   ],
   "source": [
    "classifier = DecisionTreeClassifier()\n",
    "classifier.fit(X, y)\n",
    "y_predict = classifier.predict(X)\n",
    "y_predict.shape"
   ]
  },
  {
   "cell_type": "markdown",
   "metadata": {},
   "source": [
    "Посчитаем долю правильно классифицированных объектов:"
   ]
  },
  {
   "cell_type": "code",
   "execution_count": 12,
   "metadata": {},
   "outputs": [
    {
     "data": {
      "text/plain": [
       "1.0"
      ]
     },
     "execution_count": 12,
     "metadata": {},
     "output_type": "execute_result"
    }
   ],
   "source": [
    "np.mean(y_predict == y)"
   ]
  },
  {
   "cell_type": "markdown",
   "metadata": {},
   "source": [
    "Всё ли мы сделали верно?\n",
    "\n",
    "Мы обучались и тестировались на одной и той же выборке. Наш алгоритм хорошо настроился на этой выборке и показал максимально возможный результат. Мы __переобучились__ на нашей обучающей выборке.\n",
    "\n",
    "Однако в реальности нам вряд ли нужен алгоритм, который будет корректно классифицировать те же самые объекты, метки которых мы и так знаем. Поэтому в машинном обучении важно настраивать алгоритмы и оценивать их качество __на разных выборках__.\n",
    "\n",
    "Разделим нашу выборку на 2 равных части: обучающую и контрольную выборки. Для этого воспользуемся функцией из scikit-learn."
   ]
  },
  {
   "cell_type": "code",
   "execution_count": 13,
   "metadata": {
    "collapsed": true
   },
   "outputs": [],
   "source": [
    "from sklearn.model_selection import train_test_split\n",
    "X_train, X_test, y_train, y_test = train_test_split(X, y, test_size=0.5, random_state=123)"
   ]
  },
  {
   "cell_type": "markdown",
   "metadata": {},
   "source": [
    "Снова обучим алгоритм и сделаем предсказание уже на тестовой выборке:"
   ]
  },
  {
   "cell_type": "code",
   "execution_count": 14,
   "metadata": {
    "collapsed": true,
    "scrolled": true
   },
   "outputs": [],
   "source": [
    "classifier = DecisionTreeClassifier()\n",
    "classifier.fit(X_train, y_train)\n",
    "y_predict = classifier.predict(X_test)"
   ]
  },
  {
   "cell_type": "markdown",
   "metadata": {},
   "source": [
    "Оценим качество:"
   ]
  },
  {
   "cell_type": "code",
   "execution_count": 15,
   "metadata": {},
   "outputs": [
    {
     "data": {
      "text/plain": [
       "0.90666666666666662"
      ]
     },
     "execution_count": 15,
     "metadata": {},
     "output_type": "execute_result"
    }
   ],
   "source": [
    "np.mean(y_predict == y_test)"
   ]
  },
  {
   "cell_type": "markdown",
   "metadata": {},
   "source": [
    "Теперь уже не все объекты верно классифицированы. В реальном мире почти нет задач, где можно получить идеальные предсказания с помощью машинного обучения.\n",
    "\n",
    "Заметим, что в последнем эксперименте мы проигнорировали половину выборки для обучения и оценивали качество так же только по половине выборки. Хочется использовать всю выборку для оценки качества. Для этого вместо использования __отложенной выборки__ используется такая техника, как __кросс-валидация__.\n",
    "\n",
    "![](cv.png)\n",
    "\n",
    "Суть заключается в том, что мы делим выборку на несколько частей, для каждой из частей мы обучаем на оставшихся (за исключением текущей) частях алгоритм и оцениваем качество на выбранной части. Посчитанные метрики для каждой из частей усредняем.\n",
    "\n",
    "Для кросс-валидации можно использовать функцию из scikit-learn. Разбиение можно задавать различными способами, но мы будем пользоваться самым простым: случайно на 2 части."
   ]
  },
  {
   "cell_type": "code",
   "execution_count": 16,
   "metadata": {
    "collapsed": true
   },
   "outputs": [],
   "source": [
    "from sklearn.model_selection import cross_val_score"
   ]
  },
  {
   "cell_type": "code",
   "execution_count": 17,
   "metadata": {},
   "outputs": [
    {
     "data": {
      "text/plain": [
       "0.96666666666666679"
      ]
     },
     "execution_count": 17,
     "metadata": {},
     "output_type": "execute_result"
    }
   ],
   "source": [
    "cross_val_score(classifier, X, y, scoring='accuracy', cv=5).mean()"
   ]
  },
  {
   "cell_type": "markdown",
   "metadata": {},
   "source": [
    "То есть наш pipeline был следующим:\n",
    "\n",
    "1. Загрузить данные;\n",
    "2. Обработать их при надобности, визуализировать для понимания;\n",
    "3. Разбить выборку на обучение и контоль (либо воспользовать кросс-валидацией);\n",
    "4. Обучить некоторый алгоритм машинного обучения (будут изучаться на лекциях);\n",
    "5. Оценить качество по некоторой метрике (будут изучаться на лекциях)."
   ]
  },
  {
   "cell_type": "markdown",
   "metadata": {},
   "source": [
    "### Задача регрессии\n",
    "\n",
    "Загрузим датасет, в котором необходимо предсказывать цену дома."
   ]
  },
  {
   "cell_type": "code",
   "execution_count": 18,
   "metadata": {
    "collapsed": true
   },
   "outputs": [],
   "source": [
    "from sklearn.datasets import load_boston\n",
    "boston = load_boston()"
   ]
  },
  {
   "cell_type": "code",
   "execution_count": 19,
   "metadata": {},
   "outputs": [
    {
     "data": {
      "text/plain": [
       "(506L, 13L)"
      ]
     },
     "execution_count": 19,
     "metadata": {},
     "output_type": "execute_result"
    }
   ],
   "source": [
    "X = boston['data']\n",
    "boston['data'].shape"
   ]
  },
  {
   "cell_type": "markdown",
   "metadata": {},
   "source": [
    "То есть выборка состоит из 506 объектов и 13 признаков."
   ]
  },
  {
   "cell_type": "code",
   "execution_count": 29,
   "metadata": {},
   "outputs": [
    {
     "data": {
      "text/plain": [
       "array(['CRIM', 'ZN', 'INDUS', 'CHAS', 'NOX', 'RM', 'AGE', 'DIS', 'RAD',\n",
       "       'TAX', 'PTRATIO', 'B', 'LSTAT'], \n",
       "      dtype='|S7')"
      ]
     },
     "execution_count": 29,
     "metadata": {},
     "output_type": "execute_result"
    }
   ],
   "source": [
    "boston['feature_names']"
   ]
  },
  {
   "cell_type": "code",
   "execution_count": 30,
   "metadata": {},
   "outputs": [
    {
     "data": {
      "text/plain": [
       "array([  6.32000000e-03,   1.80000000e+01,   2.31000000e+00,\n",
       "         0.00000000e+00,   5.38000000e-01,   6.57500000e+00,\n",
       "         6.52000000e+01,   4.09000000e+00,   1.00000000e+00,\n",
       "         2.96000000e+02,   1.53000000e+01,   3.96900000e+02,\n",
       "         4.98000000e+00])"
      ]
     },
     "execution_count": 30,
     "metadata": {},
     "output_type": "execute_result"
    }
   ],
   "source": [
    "X[0]"
   ]
  },
  {
   "cell_type": "markdown",
   "metadata": {},
   "source": [
    "Целевая переменная и названия классов:"
   ]
  },
  {
   "cell_type": "code",
   "execution_count": 20,
   "metadata": {},
   "outputs": [
    {
     "data": {
      "text/plain": [
       "array([ 24. ,  21.6,  34.7,  33.4,  36.2,  28.7,  22.9,  27.1,  16.5,\n",
       "        18.9,  15. ,  18.9,  21.7,  20.4,  18.2])"
      ]
     },
     "execution_count": 20,
     "metadata": {},
     "output_type": "execute_result"
    }
   ],
   "source": [
    "y = boston['target']\n",
    "y[:15]"
   ]
  },
  {
   "cell_type": "markdown",
   "metadata": {},
   "source": [
    "Воспользуемся линейной регрессией (то есть выразим цену дома как линейную функцию вида $y_i = a_1 x_1 + a_2 x_2 + \\dots + a_{13} x_{13}$, где $x_i$ — признаки дома). Оценивать качество будем с помощью среднеквадратичной ошибки (о функционалах ошибки будет позднее в лекциях). Выборку будем разбивать на 3 части."
   ]
  },
  {
   "cell_type": "code",
   "execution_count": 21,
   "metadata": {
    "collapsed": true
   },
   "outputs": [],
   "source": [
    "from sklearn.linear_model import LinearRegression\n",
    "regressor = LinearRegression(normalize=True)"
   ]
  },
  {
   "cell_type": "code",
   "execution_count": 22,
   "metadata": {},
   "outputs": [
    {
     "data": {
      "text/plain": [
       "-168.64665360587239"
      ]
     },
     "execution_count": 22,
     "metadata": {},
     "output_type": "execute_result"
    }
   ],
   "source": [
    "cross_val_score(regressor, X, y, scoring='neg_mean_squared_error', cv=3).mean()"
   ]
  },
  {
   "cell_type": "markdown",
   "metadata": {},
   "source": [
    "Попробуем воспользоваться другим алгоритмом — случайным лесом (несколько решающих деревьев, ответы которых усредняются)."
   ]
  },
  {
   "cell_type": "code",
   "execution_count": 23,
   "metadata": {},
   "outputs": [
    {
     "data": {
      "text/plain": [
       "-28.830009750399171"
      ]
     },
     "execution_count": 23,
     "metadata": {},
     "output_type": "execute_result"
    }
   ],
   "source": [
    "from sklearn.ensemble import RandomForestRegressor\n",
    "regressor = RandomForestRegressor()\n",
    "cross_val_score(regressor, X, y, scoring='neg_mean_squared_error', cv=3).mean()"
   ]
  },
  {
   "cell_type": "markdown",
   "metadata": {},
   "source": [
    "Качество заметно улучшилось! \n",
    "\n",
    "У большинства алгоритмов в scikit-learn есть гиперпараметры. Их настройка может помочь алгоритмы ещё лучше настроиться на конкретную задачу и показать более высокое качество. \n",
    "\n",
    "Посмотрим на параметры случайного леса:"
   ]
  },
  {
   "cell_type": "code",
   "execution_count": null,
   "metadata": {
    "collapsed": true
   },
   "outputs": [],
   "source": [
    "RandomForestRegressor(<press shift+tab>)"
   ]
  },
  {
   "cell_type": "markdown",
   "metadata": {},
   "source": [
    "Заметим, что решая задачу регрессии, мы делали то же самое, что и в классификации за исключением используемых методов и метрик для оценки качества. Scikit-learn позволяет работать с большинством алгоритмов с помощью одних и тех методов (fit, predict, ...). Это позволяет быстро экспериментировать с различными методами при решении конкретных задач."
   ]
  },
  {
   "cell_type": "markdown",
   "metadata": {},
   "source": [
    "### Классификация текстов"
   ]
  },
  {
   "cell_type": "code",
   "execution_count": 24,
   "metadata": {},
   "outputs": [
    {
     "data": {
      "text/plain": [
       "['description', 'DESCR', 'filenames', 'target_names', 'data', 'target']"
      ]
     },
     "execution_count": 24,
     "metadata": {},
     "output_type": "execute_result"
    }
   ],
   "source": [
    "from sklearn.datasets import fetch_20newsgroups\n",
    "data = fetch_20newsgroups()\n",
    "data.keys()"
   ]
  },
  {
   "cell_type": "markdown",
   "metadata": {},
   "source": [
    "Посмотрим на пример объекта:"
   ]
  },
  {
   "cell_type": "code",
   "execution_count": 37,
   "metadata": {},
   "outputs": [
    {
     "data": {
      "text/plain": [
       "u\"From: lerxst@wam.umd.edu (where's my thing)\\nSubject: WHAT car is this!?\\nNntp-Posting-Host: rac3.wam.umd.edu\\nOrganization: University of Maryland, College Park\\nLines: 15\\n\\n I was wondering if anyone out there could enlighten me on this car I saw\\nthe other day. It was a 2-door sports car, looked to be from the late 60s/\\nearly 70s. It was called a Bricklin. The doors were really small. In addition,\\nthe front bumper was separate from the rest of the body. This is \\nall I know. If anyone can tellme a model name, engine specs, years\\nof production, where this car is made, history, or whatever info you\\nhave on this funky looking car, please e-mail.\\n\\nThanks,\\n- IL\\n   ---- brought to you by your neighborhood Lerxst ----\\n\\n\\n\\n\\n\""
      ]
     },
     "execution_count": 37,
     "metadata": {},
     "output_type": "execute_result"
    }
   ],
   "source": [
    "data['data'][0]"
   ]
  },
  {
   "cell_type": "markdown",
   "metadata": {},
   "source": [
    "Классы:"
   ]
  },
  {
   "cell_type": "code",
   "execution_count": 38,
   "metadata": {
    "collapsed": true
   },
   "outputs": [
    {
     "data": {
      "text/plain": [
       "['alt.atheism',\n",
       " 'comp.graphics',\n",
       " 'comp.os.ms-windows.misc',\n",
       " 'comp.sys.ibm.pc.hardware',\n",
       " 'comp.sys.mac.hardware',\n",
       " 'comp.windows.x',\n",
       " 'misc.forsale',\n",
       " 'rec.autos',\n",
       " 'rec.motorcycles',\n",
       " 'rec.sport.baseball',\n",
       " 'rec.sport.hockey',\n",
       " 'sci.crypt',\n",
       " 'sci.electronics',\n",
       " 'sci.med',\n",
       " 'sci.space',\n",
       " 'soc.religion.christian',\n",
       " 'talk.politics.guns',\n",
       " 'talk.politics.mideast',\n",
       " 'talk.politics.misc',\n",
       " 'talk.religion.misc']"
      ]
     },
     "execution_count": 38,
     "metadata": {},
     "output_type": "execute_result"
    }
   ],
   "source": [
    "data['target_names']"
   ]
  },
  {
   "cell_type": "markdown",
   "metadata": {},
   "source": [
    "Объект представляет собой текст с некоторыми элементами форматирования. Большинство алгоритмов машинного обучения не умеют работать напрямую с текстами. Необходимо представить текст в виде некоторого вектора, чтобы с полученной матрицей объекты-признаки воспользоваться некоторым алгоритмом классификации. Самый простой способ сделать это для текста — посчитать, сколько раз встречается каждое слово в каждом тексте.\n",
    "\n",
    "Предварительно разделим выборку на обучающую и контрольную выборки:"
   ]
  },
  {
   "cell_type": "code",
   "execution_count": 25,
   "metadata": {
    "collapsed": true
   },
   "outputs": [],
   "source": [
    "train, test, y_train, y_test = train_test_split(data['data'], data['target'], test_size=0.3)"
   ]
  },
  {
   "cell_type": "markdown",
   "metadata": {},
   "source": [
    "В scikit-learn уже реализован класс для подсчёта встречаемости каждого слова в тексте. У него есть различные параметры, связанные с предобработкой текста."
   ]
  },
  {
   "cell_type": "code",
   "execution_count": 26,
   "metadata": {
    "collapsed": true
   },
   "outputs": [],
   "source": [
    "from sklearn.feature_extraction.text import CountVectorizer\n",
    "vectorizer = CountVectorizer(stop_words='english')\n",
    "train_vectors = vectorizer.fit_transform(train)\n",
    "test_vectors = vectorizer.transform(test)"
   ]
  },
  {
   "cell_type": "markdown",
   "metadata": {},
   "source": [
    "Так как слов в языке довольно много, при этом малое количество из них встречается в каждом конкретном тексте, то в полученной матрице, где $i,j$ позиции находится число \"сколько раз в тексте $i$ встречается слово $j$, возникает много нулевых элементов. Такие матрицы называют разреженными и их удобнее хранить в памяти в ином формате."
   ]
  },
  {
   "cell_type": "code",
   "execution_count": 41,
   "metadata": {},
   "outputs": [
    {
     "data": {
      "text/plain": [
       "<7919x114272 sparse matrix of type '<type 'numpy.int64'>'\n",
       "\twith 927586 stored elements in Compressed Sparse Row format>"
      ]
     },
     "execution_count": 41,
     "metadata": {},
     "output_type": "execute_result"
    }
   ],
   "source": [
    "train_vectors"
   ]
  },
  {
   "cell_type": "code",
   "execution_count": 27,
   "metadata": {},
   "outputs": [
    {
     "data": {
      "text/plain": [
       "matrix([[0, 0, 0, ..., 0, 0, 0]], dtype=int64)"
      ]
     },
     "execution_count": 27,
     "metadata": {},
     "output_type": "execute_result"
    }
   ],
   "source": [
    "train_vectors[0].todense()"
   ]
  },
  {
   "cell_type": "markdown",
   "metadata": {},
   "source": [
    "В процессе кодирования текста мы получили отображение слов в индексы:"
   ]
  },
  {
   "cell_type": "code",
   "execution_count": 43,
   "metadata": {
    "scrolled": true
   },
   "outputs": [
    {
     "data": {
      "text/plain": [
       "{u'l1tbk': 64917,\n",
       " u'nunnery': 77618,\n",
       " u'sonja': 95647,\n",
       " u'luanch': 67676,\n",
       " u'13359': 3466,\n",
       " u'woods': 109757,\n",
       " u'ree84': 88093,\n",
       " u'mdbs': 70688,\n",
       " u'hanging': 54120,\n",
       " u'woody': 109765,\n",
       " u'trawling': 102139,\n",
       " u'localized': 67100,\n",
       " u'spidery': 96148,\n",
       " u'disobeying': 41699,\n",
       " u'canes': 32853,\n",
       " u'os2faq': 79527,\n",
       " u'sprague': 96345,\n",
       " u'chatter': 34168,\n",
       " u'5980': 13569,\n",
       " u'voecking': 107165,\n",
       " u'gab': 50677,\n",
       " u'crossbar': 37997,\n",
       " u'rickman': 89567,\n",
       " u'c5jh23': 32009,\n",
       " u'ioannidis': 59705,\n",
       " u'155637': 4255,\n",
       " u'rscharfy': 90767,\n",
       " u'_xogkyrzaup': 21510,\n",
       " u'naturopathic': 75685,\n",
       " u'slqfbql': 95061,\n",
       " u'mennon': 71152,\n",
       " u'ua8cx': 103368,\n",
       " u'y73': 112098,\n",
       " u'broward': 30775,\n",
       " u'4kqw': 12467,\n",
       " u'screaming': 92658,\n",
       " u'dascenzo': 39381,\n",
       " u'wooded': 109748,\n",
       " u'735253985': 16327,\n",
       " u'remialcsid': 88570,\n",
       " u'np2p8az_g': 77308,\n",
       " u'wooden': 109749,\n",
       " u'wednesday': 108625,\n",
       " u'andrei_lomakin': 24625,\n",
       " u'circuitry': 34832,\n",
       " u'598n': 13571,\n",
       " u'crrob': 38039,\n",
       " u'jujuga': 62187,\n",
       " u'amplifications': 24422,\n",
       " u'v6jylh': 105724,\n",
       " u'shows': 94121,\n",
       " u'immunities': 58076,\n",
       " u'pantheistic': 80707,\n",
       " u'v_dzxnqel': 105827,\n",
       " u'0059': 244,\n",
       " u'2h5b8z': 9143,\n",
       " u'11544': 2881,\n",
       " u'gaskets': 50928,\n",
       " u'me2uyo___s': 70745,\n",
       " u'frederick': 49666,\n",
       " u'znb8flb8': 113799,\n",
       " u'270': 8482,\n",
       " u'271': 8495,\n",
       " u'195513': 5456,\n",
       " u'273': 8509,\n",
       " u'274': 8519,\n",
       " u'275': 8529,\n",
       " u'gorman': 52333,\n",
       " u'277': 8550,\n",
       " u'278': 8559,\n",
       " u'reengineering': 88114,\n",
       " u'targa': 99669,\n",
       " u'inanimate': 58324,\n",
       " u'mdata': 70686,\n",
       " u'xivz': 111131,\n",
       " u'errors': 45788,\n",
       " u'dialogs': 41068,\n",
       " u'schlageter': 92408,\n",
       " u'ja_4mm8': 60732,\n",
       " u'devam': 40834,\n",
       " u'1achov': 5689,\n",
       " u'p3nn': 80246,\n",
       " u'100014': 2098,\n",
       " u'100015': 2099,\n",
       " u'usenet': 105185,\n",
       " u'1jpt78': 5992,\n",
       " u'designing': 40648,\n",
       " u'numeram': 77598,\n",
       " u'd7qwz': 39045,\n",
       " u'odinsup': 78433,\n",
       " u'evolutionism': 46328,\n",
       " u'scalable': 92223,\n",
       " u'27c': 8581,\n",
       " u'gakhaus': 50734,\n",
       " u'wasington': 108328,\n",
       " u'mailings': 69301,\n",
       " u'668966': 14827,\n",
       " u'brainwashed': 30414,\n",
       " u'affiliates': 23174,\n",
       " u'lmu': 67027,\n",
       " u'21619': 7540,\n",
       " u'27u': 8599,\n",
       " u'27x': 8601,\n",
       " u'affiliated': 23173,\n",
       " u'motorolla': 73664,\n",
       " u'ns16c552': 77439,\n",
       " u'ns16c551': 77438,\n",
       " u'kids': 63637,\n",
       " u'uplifting': 104969,\n",
       " u'wdstarr': 108550,\n",
       " u'naviagtion': 75705,\n",
       " u'002937': 215,\n",
       " u'monospaced': 73365,\n",
       " u'controversy': 37011,\n",
       " u'kida': 63625,\n",
       " u'kinsley': 63762,\n",
       " u'mv3kcj4': 74703,\n",
       " u'c51nls': 31816,\n",
       " u'spotty': 96328,\n",
       " u'vr56': 107371,\n",
       " u'toowoomba': 101571,\n",
       " u'lmm': 67015,\n",
       " u'tredysvr': 102179,\n",
       " u'_would_': 21485,\n",
       " u'topography': 101585,\n",
       " u'projection': 84503,\n",
       " u'b0l47': 27097,\n",
       " u'5986': 13570,\n",
       " u'ff2j33n': 48117,\n",
       " u'xgetatomname': 111009,\n",
       " u'spacewalks': 95858,\n",
       " u'stern': 97158,\n",
       " u'askuser': 25973,\n",
       " u'umumi': 103956,\n",
       " u'dnd': 42202,\n",
       " u'agassi': 23294,\n",
       " u'cmmiller': 35462,\n",
       " u'dna': 42199,\n",
       " u'blashephemers': 29491,\n",
       " u'rmr9r': 90087,\n",
       " u'dnm': 42215,\n",
       " u'insecurity': 59070,\n",
       " u'7fa': 17011,\n",
       " u'dni': 42208,\n",
       " u'dnh': 42207,\n",
       " u'inevitable': 58670,\n",
       " u'wo8ps': 109662,\n",
       " u'dnw': 42223,\n",
       " u'dnv': 42222,\n",
       " u'23xu': 8025,\n",
       " u'e3': 43585,\n",
       " u'dns': 42218,\n",
       " u'distortions': 41876,\n",
       " u'sermons': 93380,\n",
       " u'benedikt': 28635,\n",
       " u'hu': 56424,\n",
       " u'rcdpaxafrl': 87515,\n",
       " u'n7zg': 75332,\n",
       " u'populations': 83397,\n",
       " u'ntw5w': 77538,\n",
       " u'0rfumrd': 1811,\n",
       " u'mj4832s725jj1ne': 72508,\n",
       " u'0pf': 1754,\n",
       " u'milestones': 72031,\n",
       " u'j6eg': 60601,\n",
       " u'ojjr_': 78696,\n",
       " u'avmk': 26791,\n",
       " u'molenaar': 73246,\n",
       " u'cherbayev': 34275,\n",
       " u'adventist': 22998,\n",
       " u'reingold': 88350,\n",
       " u'ecs1emt': 44047,\n",
       " u'intake': 59236,\n",
       " u'morally': 73471,\n",
       " u'pirenne': 82512,\n",
       " u'sy2': 98817,\n",
       " u'93apr15130411': 19121,\n",
       " u'dn0': 42190,\n",
       " u'dn3': 42194,\n",
       " u'cqe0': 37665,\n",
       " u'lii03i': 66529,\n",
       " u'u5jkj_4w': 103238,\n",
       " u'7f0': 17004,\n",
       " u'dn9': 42198,\n",
       " u'7f7': 17009,\n",
       " u'13054': 3382,\n",
       " u'transom': 102060,\n",
       " u'sed4': 93008,\n",
       " u'wang': 108213,\n",
       " u'i_i': 57179,\n",
       " u'hyatt': 56739,\n",
       " u'i_f': 57177,\n",
       " u'hslrswi': 56374,\n",
       " u'dipswitches': 41396,\n",
       " u'i_b': 57174,\n",
       " u'edgeways': 44112,\n",
       " u'titanium': 101195,\n",
       " u'want': 108227,\n",
       " u'i_u': 57184,\n",
       " u'i_s': 57182,\n",
       " u'aliboats': 23940,\n",
       " u'ferranti': 48040,\n",
       " u'csnlluf': 38240,\n",
       " u'beyer': 28859,\n",
       " u'travel': 102124,\n",
       " u'copious': 37159,\n",
       " u'srsune': 96593,\n",
       " u'h1p4s4g': 53570,\n",
       " u'r3000': 86745,\n",
       " u'traver': 102134,\n",
       " u'sclark': 92543,\n",
       " u'_kk': 21006,\n",
       " u'brassard': 30455,\n",
       " u'rlb_vl': 89920,\n",
       " u'4bo0': 12252,\n",
       " u'uselessness': 105184,\n",
       " u'seds': 93022,\n",
       " u'assimilated': 26087,\n",
       " u'0pj': 1756,\n",
       " u't45st44': 99175,\n",
       " u'sedd': 93016,\n",
       " u'dinosaurs': 41355,\n",
       " u'wrong': 110042,\n",
       " u'wrona': 110041,\n",
       " u'seda': 93010,\n",
       " u'stollen': 97341,\n",
       " u'sentencing': 93263,\n",
       " u'i_6': 57170,\n",
       " u'bratislava': 30459,\n",
       " u'i_3': 57169,\n",
       " u'16megabit': 4673,\n",
       " u'glennc': 51921,\n",
       " u'glenne': 51922,\n",
       " u'ay79ug': 26982,\n",
       " u'32fpv': 10005,\n",
       " u's6_sr64': 91471,\n",
       " u'kiloton': 63685,\n",
       " u'60watts': 14387,\n",
       " u'glenns': 51923,\n",
       " u'4e14': 12303,\n",
       " u'menlo': 71151,\n",
       " u'lambda': 65284,\n",
       " u'unisual': 104473,\n",
       " u'_kt': 21013,\n",
       " u'smashers': 95153,\n",
       " u'snugly': 95387,\n",
       " u'faddishness': 47365,\n",
       " u'welcomed': 108711,\n",
       " u'kuee': 64657,\n",
       " u'benefited': 28642,\n",
       " u'yyl5tm5': 112995,\n",
       " u'airbags': 23559,\n",
       " u'backings': 27492,\n",
       " u'vkr30i': 107001,\n",
       " u'65882': 14713,\n",
       " u'activating': 22661,\n",
       " u'65886': 14714,\n",
       " u'9ww': 20164,\n",
       " u'uop': 104883,\n",
       " u'uow': 104910,\n",
       " u'uov': 104905,\n",
       " u'fit': 48586,\n",
       " u'fiu': 48605,\n",
       " u'bringing': 30654,\n",
       " u'fix': 48610,\n",
       " u'uox': 104913,\n",
       " u'9wz': 20165,\n",
       " u'njcc': 76765,\n",
       " u'folate': 49131,\n",
       " u'uoc': 104866,\n",
       " u'9we': 20160,\n",
       " u'fig': 48302,\n",
       " u'66502': 14806,\n",
       " u'geva': 51480,\n",
       " u'uok': 104876,\n",
       " u'fik': 48351,\n",
       " u'fih': 48322,\n",
       " u'gypies': 53469,\n",
       " u'fin': 48423,\n",
       " u'fil': 48357,\n",
       " u'fim': 48419,\n",
       " u'condense': 36446,\n",
       " u'zucker': 114098,\n",
       " u'foolin': 49196,\n",
       " u'vouchers': 107289,\n",
       " u'hkuwait': 55468,\n",
       " u'photocell': 82184,\n",
       " u'78x78': 16823,\n",
       " u'nmb': 76893,\n",
       " u'effects': 44272,\n",
       " u'turboed': 102723,\n",
       " u'feid3ive3': 47922,\n",
       " u'fi2': 48222,\n",
       " u'9w4': 20156,\n",
       " u'9w3': 20155,\n",
       " u'9w2': 20154,\n",
       " u'viaticum': 106640,\n",
       " u'fi5': 48224,\n",
       " u'whacking': 108898,\n",
       " u'barton': 27922,\n",
       " u'1k60': 6015,\n",
       " u'disconnection': 41545,\n",
       " u'njc9': 76764,\n",
       " u'vilok': 106795,\n",
       " u'ingrid': 58864,\n",
       " u'nq9edu0': 77361,\n",
       " u'uninfluenced': 104430,\n",
       " u'fda': 47790,\n",
       " u'6q8': 15592,\n",
       " u'magiosono': 69202,\n",
       " u'6q2': 15583,\n",
       " u'6q3': 15587,\n",
       " u'6q1': 15577,\n",
       " u'parasites': 80819,\n",
       " u'dga': 40970,\n",
       " u'hpdmd48': 56182,\n",
       " u'syg': 98841,\n",
       " u'uqei': 105032,\n",
       " u'toleration': 101454,\n",
       " u'golen': 52228,\n",
       " u'xuserfilesearchpath': 111738,\n",
       " u'humber': 56519,\n",
       " u'enviroment': 45425,\n",
       " u'11101011b': 2707,\n",
       " u'combinatorial': 35890,\n",
       " u'adapt': 22749,\n",
       " u'ah9iqy': 23419,\n",
       " u'qkgol8a': 85965,\n",
       " u'bogosity': 29901,\n",
       " u'aravy': 25446,\n",
       " u'gks101': 51844,\n",
       " u'ua8c_': 103367,\n",
       " u'sheep': 93805,\n",
       " u'abbott': 22102,\n",
       " u'7ik': 17085,\n",
       " u'underfoot': 104172,\n",
       " u'6qw': 15608,\n",
       " u'6qj': 15594,\n",
       " u'6qn': 15605,\n",
       " u'ferdinan': 48014,\n",
       " u'6ql': 15597,\n",
       " u'estimate': 45975,\n",
       " u'ugghhh': 103647,\n",
       " u'gameplay': 50809,\n",
       " u'chlorine': 34438,\n",
       " u'jugs': 62176,\n",
       " u'sys': 98973,\n",
       " u'jd_1g': 61033,\n",
       " u'dgs': 40991,\n",
       " u'eavesdroppers': 43877,\n",
       " u'chv4': 34668,\n",
       " u'disturbed': 41912,\n",
       " u'yester': 112414,\n",
       " u'purpose': 85228,\n",
       " u'genoa': 51303,\n",
       " u'curiouser': 38481,\n",
       " u'stoneham': 97352,\n",
       " u'implimentation': 58185,\n",
       " u'syt': 99006,\n",
       " u'141842': 3712,\n",
       " u'chudel': 34635,\n",
       " u'cg1ohyo_': 33879,\n",
       " u'0058': 243,\n",
       " u'megabytes': 70957,\n",
       " u'pennance': 81548,\n",
       " u'q07': 85455,\n",
       " u'q04': 85452,\n",
       " u'q05': 85453,\n",
       " u'95lx': 19378,\n",
       " u'olds': 78799,\n",
       " u'wo47gph': 109655,\n",
       " u'forrester': 49377,\n",
       " u'gervin': 51434,\n",
       " u'duidelijk': 43140,\n",
       " u'ry509y': 91168,\n",
       " u'needed': 75956,\n",
       " u'acsnet': 22646,\n",
       " u'master': 69972,\n",
       " u'zkbv': 113706,\n",
       " u'hiya': 55417,\n",
       " u'genesis': 51287,\n",
       " u'hiye': 55418,\n",
       " u'frankenstien': 49618,\n",
       " u'berlioz': 28743,\n",
       " u'rewards': 89352,\n",
       " u'blackfriars': 29437,\n",
       " u'mdgoodma': 70702,\n",
       " u'jmgree01': 61641,\n",
       " u'zeroth': 113518,\n",
       " u'sukru': 98075,\n",
       " u'ca85': 32508,\n",
       " u'q0x': 85466,\n",
       " u'mutilated': 74665,\n",
       " u'zcpajp9': 113400,\n",
       " u'positively': 83492,\n",
       " u'condesending': 36454,\n",
       " u'ahmed': 23469,\n",
       " u'duckworth': 43102,\n",
       " u'anniversaries': 24773,\n",
       " u'272': 8501,\n",
       " u'josli': 61864,\n",
       " u'ahmet': 23472,\n",
       " u'kdk8j': 63166,\n",
       " u'wchar_t': 108489,\n",
       " u'feeling': 47901,\n",
       " u'uorplq': 104887,\n",
       " u'rauss': 87384,\n",
       " u'8ha35': 18341,\n",
       " u'15709': 4288,\n",
       " u'z38lb': 113085,\n",
       " u'276': 8542,\n",
       " u'cyen': 38783,\n",
       " u'atfedilen': 26280,\n",
       " u'6810': 14920,\n",
       " u'6812': 14921,\n",
       " u'15707': 4287,\n",
       " u'consenting': 36709,\n",
       " u'mishra': 72320,\n",
       " u'279': 8570,\n",
       " u'worlders': 109835,\n",
       " u'jdv_i2trrc': 61073,\n",
       " u'013611': 477,\n",
       " u'affairs': 23158,\n",
       " u'0pxve0b': 1771,\n",
       " u'wholesome': 109050,\n",
       " u'iskence': 60057,\n",
       " u'paramedics': 80793,\n",
       " u'diskwriter': 41669,\n",
       " u'vga': 106594,\n",
       " u'posessa': 83470,\n",
       " u'vgx': 106610,\n",
       " u'affaire': 23156,\n",
       " u'kremlin': 64488,\n",
       " u'scty8yx': 92743,\n",
       " u'shipments': 93946,\n",
       " u'45th': 11876,\n",
       " u'isgate': 60032,\n",
       " u'memebers': 71090,\n",
       " u'tligman': 101279,\n",
       " u'kariya': 62933,\n",
       " u'diminishing': 41313,\n",
       " u'kz1300': 64842,\n",
       " u'simplify': 94468,\n",
       " u'19apr199313020883': 5637,\n",
       " u'zikzak': 113630,\n",
       " u'reverence': 89282,\n",
       " u'dailey': 39180,\n",
       " u'pseudonymously': 84878,\n",
       " u'buralarini': 31182,\n",
       " u'africa': 23242,\n",
       " u'willingp': 109229,\n",
       " u'joohwee': 61838,\n",
       " u'tect': 99997,\n",
       " u'sy_': 98821,\n",
       " u'purges': 85209,\n",
       " u'vertices': 106513,\n",
       " u't711': 99288,\n",
       " u'dw4go': 43331,\n",
       " u'thaat': 100482,\n",
       " u'tech': 99941,\n",
       " u'prevention': 84153,\n",
       " u'cqdwj': 37664,\n",
       " u'teck': 99990,\n",
       " u'vg4': 106591,\n",
       " u'vg6': 106593,\n",
       " u'duhst': 43138,\n",
       " u'purged': 85207,\n",
       " u'vg2': 106590,\n",
       " u'saying': 92149,\n",
       " u'afdzqvg': 23145,\n",
       " u'cooking': 37103,\n",
       " u'dickey': 41120,\n",
       " u'aul45': 26549,\n",
       " u'tempter': 100163,\n",
       " u'padded': 80497,\n",
       " u'mmilitzo': 72851,\n",
       " u'nsqjd0': 77483,\n",
       " u'ysag': 112801,\n",
       " u'tempted': 100162,\n",
       " u'chelios': 34246,\n",
       " u'108109': 2499,\n",
       " u'hounded': 56093,\n",
       " u'vindictive': 106808,\n",
       " u'bullshitted': 31118,\n",
       " u'clicked': 35232,\n",
       " u'm2r5a': 68251,\n",
       " u'luby': 67690,\n",
       " u'nordique': 77130,\n",
       " u'lube': 67681,\n",
       " u'statehouse': 96944,\n",
       " u'30332': 9753,\n",
       " u'zjz9': 113699,\n",
       " u'ivafmy0k2475': 60341,\n",
       " u'plate': 82781,\n",
       " u'kuijpers': 64665,\n",
       " u'j6zh': 60614,\n",
       " u'plato': 82792,\n",
       " u'61dsg': 14447,\n",
       " u'platt': 82798,\n",
       " u'0000000667': 11,\n",
       " u'strandwg': 97446,\n",
       " u'theodosios': 100583,\n",
       " u'photoelectric': 82191,\n",
       " u'altogether': 24192,\n",
       " u'massacring': 69956,\n",
       " u'1pp991': 6217,\n",
       " u'platz': 82803,\n",
       " u'lds': 65761,\n",
       " u'pn49yd': 83059,\n",
       " u'jaguar': 60803,\n",
       " u'ldr': 65760,\n",
       " u'nicely': 76528,\n",
       " u'g3ck': 50452,\n",
       " u'thingummy': 100713,\n",
       " u'patch': 81058,\n",
       " u'143434': 3775,\n",
       " u'ldp': 65759,\n",
       " u'183416': 5111,\n",
       " u'ddraf': 39698,\n",
       " u'3byk6g6ek': 10815,\n",
       " u'programmatic': 84461,\n",
       " u'ajwk': 23687,\n",
       " u'acadamia': 22332,\n",
       " u'wrangle': 109966,\n",
       " u'widget': 109119,\n",
       " u'ajwm': 23690,\n",
       " u'tyndale': 102983,\n",
       " u'verboseness': 106415,\n",
       " u'cslip': 38234,\n",
       " u'billand': 29151,\n",
       " u'irx': 59987,\n",
       " u'lots': 67345,\n",
       " u'irq': 59934,\n",
       " u'irs': 59979,\n",
       " u'irt': 59981,\n",
       " u'xvt': 111780,\n",
       " u'181813': 5060,\n",
       " u'xvi': 111766,\n",
       " u'iri': 59899,\n",
       " u'xvk': 111774,\n",
       " u'irk': 59910,\n",
       " u'irl': 59913,\n",
       " u'xvl': 111776,\n",
       " u'srinivas': 96564,\n",
       " u'conductive': 36481,\n",
       " u'ira': 59863,\n",
       " u'irb': 59879,\n",
       " u'irc': 59884,\n",
       " u'ire': 59888,\n",
       " u'xvf': 111762,\n",
       " u'wage': 108071,\n",
       " u'27k': 8587,\n",
       " u'extend': 46814,\n",
       " u'nature': 75681,\n",
       " u'1x3x70ns': 6974,\n",
       " u'optimist': 79206,\n",
       " u'27m': 8588,\n",
       " u'samx1': 91887,\n",
       " u'ad3x': 22718,\n",
       " u'extent': 46827,\n",
       " u'tendons': 100188,\n",
       " u'nx2000': 77721,\n",
       " u'ir8': 59862,\n",
       " u'xv8': 111751,\n",
       " u'airflow': 23570,\n",
       " u'clinchers': 35256,\n",
       " u'ir1': 59857,\n",
       " u'ir3': 59858,\n",
       " u'ir6': 59861,\n",
       " u'73447': 16217,\n",
       " u'keyspace': 63414,\n",
       " u'corvair': 37365,\n",
       " u'lookin': 67249,\n",
       " u'parys': 80971,\n",
       " u'libyan': 66421,\n",
       " u'decends': 39833,\n",
       " u'bxesd': 31443,\n",
       " u'lc4zl_': 65702,\n",
       " u'gopher': 52312,\n",
       " u'up47': 104918,\n",
       " u'57u5': 13473,\n",
       " u'dabbott': 39126,\n",
       " u'humming': 56540,\n",
       " u'zrcisrchz': 113994,\n",
       " u'udev': 103554,\n",
       " u'frc': 49657,\n",
       " u'mucz': 74360,\n",
       " u'fra': 49542,\n",
       " u'9jc': 19880,\n",
       " u'frg': 49748,\n",
       " u'ejbe': 44487,\n",
       " u'9jg': 19885,\n",
       " u'frk': 49805,\n",
       " u'frj': 49804,\n",
       " u'fri': 49750,\n",
       " u'9jk': 19887,\n",
       " u'naifs': 75487,\n",
       " u'frn': 49810,\n",
       " u'9jn': 19891,\n",
       " u'231047': 7863,\n",
       " u'bothers': 30185,\n",
       " u'i4s65e962n': 57045,\n",
       " u'frp': 49855,\n",
       " u'chink': 34398,\n",
       " u'xe5nbq': 110926,\n",
       " u'unstick': 104770,\n",
       " u'fry': 49880,\n",
       " u'frx': 49879,\n",
       " u'bu008': 30943,\n",
       " u'h1rhse': 53571,\n",
       " u'toning': 101525,\n",
       " u'obese': 78149,\n",
       " u'obesa': 78148,\n",
       " u'spit': 96199,\n",
       " u'uos6_': 104901,\n",
       " u'strnlghtc5pucl': 97588,\n",
       " u'jeos': 61173,\n",
       " u'if526': 57577,\n",
       " u'dxnb': 43403,\n",
       " u'spif': 96155,\n",
       " u'doubts': 42543,\n",
       " u'spin': 96170,\n",
       " u'propellants': 84605,\n",
       " u's1w7': 91330,\n",
       " u'wildcat': 109178,\n",
       " u'hqawl': 56261,\n",
       " u'1670': 4591,\n",
       " u'xp380': 111370,\n",
       " u'fr3': 49533,\n",
       " u'fr2': 49532,\n",
       " u'misconstrued': 72293,\n",
       " u'fr0': 49529,\n",
       " u'dhembrow': 41007,\n",
       " u'9j5': 19874,\n",
       " u'9j6': 19875,\n",
       " u'ble2u': 29528,\n",
       " u'excersise': 46480,\n",
       " u'203945': 7220,\n",
       " u'transplan': 102068,\n",
       " u'135941': 3534,\n",
       " u'sqst': 96461,\n",
       " u'1490pvf': 3999,\n",
       " u'squawk': 96483,\n",
       " u'kohl': 64223,\n",
       " u'conditioned': 36459,\n",
       " u'kohr': 64226,\n",
       " u'bordick': 30107,\n",
       " u'destr': 40719,\n",
       " u'5059': 12904,\n",
       " u'waddell': 108051,\n",
       " u'conditioner': 36460,\n",
       " u'5050': 12902,\n",
       " u'kayama': 63049,\n",
       " u'ghjnuy': 51587,\n",
       " u'irsael': 59980,\n",
       " u'm6a3': 68544,\n",
       " u'hong': 55866,\n",
       " u'memoriam': 71107,\n",
       " u'0wkz': 1953,\n",
       " u'mcontent': 70578,\n",
       " u'mj5e94eg9hz': 72512,\n",
       " u'honk': 55873,\n",
       " u'democracies': 40325,\n",
       " u'spews': 96126,\n",
       " u'aspipat': 26003,\n",
       " u'visitations': 106902,\n",
       " u'0wkg': 1952,\n",
       " u'ihmf1': 57704,\n",
       " u'jartsu': 60902,\n",
       " u'galut': 50785,\n",
       " u'bls101': 29666,\n",
       " u'explodes': 46739,\n",
       " u'issac': 60164,\n",
       " u'ktikmh': 64618,\n",
       " u'adykes': 23052,\n",
       " u'neurologist': 76201,\n",
       " u'zd3k8rlk': 113425,\n",
       " u'zeos': 113506,\n",
       " u'ns9ln8': 77447,\n",
       " u'qrplorplqrpl': 86156,\n",
       " u'kjzpk': 63932,\n",
       " u'1jpt7s': 5993,\n",
       " u'academic': 22338,\n",
       " u'stillness': 97250,\n",
       " u'academia': 22337,\n",
       " u'nibby': 76519,\n",
       " u'_dcd': 20751,\n",
       " u'mentorg': 71176,\n",
       " u'corporate': 37293,\n",
       " u'massaging': 69959,\n",
       " u'nriz1z5f': 77408,\n",
       " u'zfbj': 113537,\n",
       " u'larrison': 65436,\n",
       " u'bhjnux': 28977,\n",
       " u'absurdities': 22278,\n",
       " u'dtax': 43024,\n",
       " u'fehat8p': 47912,\n",
       " u'stnt': 97308,\n",
       " u'wszola': 110111,\n",
       " u'isodata': 60102,\n",
       " u'dg1u': 40964,\n",
       " u'lasse': 65473,\n",
       " u'bighelmet': 29099,\n",
       " u'immeadiately': 58035,\n",
       " u'stna': 97305,\n",
       " u'p3nnk': 80247,\n",
       " u'hai': 53891,\n",
       " u'haj': 53917,\n",
       " u'hak': 53924,\n",
       " u'hal': 53932,\n",
       " u'ham': 53993,\n",
       " u'han': 54050,\n",
       " u'hao': 54147,\n",
       " u'haa': 53791,\n",
       " u'hab': 53811,\n",
       " u'hac': 53829,\n",
       " u'advancement': 22987,\n",
       " u'hag': 53868,\n",
       " u'hay': 54453,\n",
       " u'mcnamara': 70566,\n",
       " u'hap': 54148,\n",
       " u'har': 54170,\n",
       " u'x_gyx_g6': 110702,\n",
       " u'hat': 54365,\n",
       " u'hau': 54393,\n",
       " u'hav': 54411,\n",
       " u'haw': 54429,\n",
       " u'eldery': 44585,\n",
       " u'yukawa': 112876,\n",
       " u'municipal': 74538,\n",
       " u'dingebre': 41335,\n",
       " u'elders': 44584,\n",
       " u'werdna': 108747,\n",
       " u'unequivocally': 104302,\n",
       " u'czl30': 38847,\n",
       " u'indicative': 58552,\n",
       " u'dmotifbc': 42173,\n",
       " u'u1t6tl': 103138,\n",
       " u'wbr8e2fa8z': 108462,\n",
       " u'xxpfdop1': 111885,\n",
       " u'oscilliscopes': 79555,\n",
       " u'cb650': 33392,\n",
       " u'overgrazed': 79882,\n",
       " u'armedcriminal': 25668,\n",
       " u'miff': 71945,\n",
       " u'victoria': 106672,\n",
       " u'minumum': 72214,\n",
       " u'6959': 15029,\n",
       " u'ha9': 53790,\n",
       " u'utilites': 105311,\n",
       " u'ha0': 53782,\n",
       " u'ha1': 53785,\n",
       " u'ha2': 53786,\n",
       " u'17mhz': 4991,\n",
       " u'misdemeanors': 72296,\n",
       " u'defragmenter': 40124,\n",
       " u'3hzrck': 11020,\n",
       " u'crowd': 38023,\n",
       " u'8032': 17477,\n",
       " u'czech': 38840,\n",
       " u'mosques': 73590,\n",
       " u'crown': 38030,\n",
       " u'anarres': 24556,\n",
       " u'deflection': 40109,\n",
       " u'nab8f': 75433,\n",
       " u'captive': 32964,\n",
       " u'defragmented': 40123,\n",
       " u'nab8c': 75432,\n",
       " u'emphases': 44955,\n",
       " u'4m1x': 12500,\n",
       " u'deragatory': 40538,\n",
       " u'jvxljw': 62351,\n",
       " u'botton': 30199,\n",
       " u'45zi7u': 11881,\n",
       " u'xtnsensitive': 111660,\n",
       " u'inhuman': 58896,\n",
       " u'lanstep': 65390,\n",
       " u'p42': 80258,\n",
       " u'locksmithing': 67125,\n",
       " u'syphilis': 98959,\n",
       " u'1220': 3118,\n",
       " u'completly': 36204,\n",
       " u'baxxx': 28083,\n",
       " u'dne': 42203,\n",
       " u'8yr': 18726,\n",
       " u'8ys': 18727,\n",
       " u'8yt': 18729,\n",
       " u'8yx': 18739,\n",
       " u'analitik': 24517,\n",
       " u'8yz': 18743,\n",
       " u'liver': 66834,\n",
       " u'8ya': 18716,\n",
       " u'13mhz': 3608,\n",
       " u'freethought': 49701,\n",
       " u'8yd': 18718,\n",
       " u'starring': 96912,\n",
       " u'8yg': 18720,\n",
       " u'7fn': 17017,\n",
       " u'8yj': 18721,\n",
       " u'caskets': 33201,\n",
       " u'8yl': 18723,\n",
       " u'accelerations': 22365,\n",
       " u'moflngan': 73182,\n",
       " u'8yo': 18724,\n",
       " u'mollard': 73256,\n",
       " u'benches': 28623,\n",
       " u'xxkcx': 111880,\n",
       " u'anomalous': 24818,\n",
       " u'malmute': 69449,\n",
       " u'8y_': 18715,\n",
       " u'24h': 8193,\n",
       " u'benched': 28622,\n",
       " u'dmitri_kvartalnov': 42153,\n",
       " u'kellett': 63251,\n",
       " u'kilgore': 63658,\n",
       " u'szmanda': 99049,\n",
       " u'keith_primeau': 63234,\n",
       " u'letf75u': 66107,\n",
       " u'lemmings': 66010,\n",
       " u'mangoe': 69540,\n",
       " u'backbo': 27467,\n",
       " u'dnn': 42216,\n",
       " u'marshall': 69851,\n",
       " u'honeymoon': 55864,\n",
       " u'marshalk': 69850,\n",
       " u'lpbp': 67450,\n",
       " u'7fg': 17012,\n",
       " u'shooty': 94029,\n",
       " u'svein': 98576,\n",
       " u's82': 91506,\n",
       " u'marshals': 69853,\n",
       " u's86': 91511,\n",
       " u'shoots': 94028,\n",
       " u'5q253': 14061,\n",
       " u'despised': 40695,\n",
       " u'fabric': 47293,\n",
       " u'spraining': 96347,\n",
       " u'nightsweats': 76623,\n",
       " u'640x350': 14590,\n",
       " u'raped': 87284,\n",
       " u'30p': 9824,\n",
       " u'16000': 4382,\n",
       " u'grasping': 52634,\n",
       " u'5868': 13497,\n",
       " u'notifiable': 77249,\n",
       " u'rapes': 87285,\n",
       " u'fsf': 49908,\n",
       " u'5onfj': 14030,\n",
       " u'1qkkq4': 6471,\n",
       " u's8b': 91515,\n",
       " u'precendence': 83839,\n",
       " u'40shg': 11536,\n",
       " u'q45k15o': 85562,\n",
       " u'30t': 9831,\n",
       " u'kazemzadeh': 63062,\n",
       " u'thesaurus': 100655,\n",
       " u'30u': 9833,\n",
       " u's8p': 91520,\n",
       " u's8q': 91521,\n",
       " u's8r': 91522,\n",
       " u'30v': 9834,\n",
       " u's8v': 91525,\n",
       " u's8w': 91528,\n",
       " u'2yyk9': 9685,\n",
       " u's8z': 91529,\n",
       " u'algoritm': 23925,\n",
       " u'incinerator': 58379,\n",
       " u'bazi': 28100,\n",
       " u'unliveable': 104571,\n",
       " u'endeth': 45124,\n",
       " u'humbled': 56523,\n",
       " u'toolkits': 101554,\n",
       " u'rippling': 89725,\n",
       " u'220cdn': 7621,\n",
       " u'scoriates': 92585,\n",
       " u'2231': 7684,\n",
       " u'humbles': 56524,\n",
       " u'tzxb': 103058,\n",
       " u'univesa': 104520,\n",
       " u'ishbeld': 60038,\n",
       " u'19580': 5466,\n",
       " u'passenger': 81004,\n",
       " u'2232': 7687,\n",
       " u'disgrace': 41619,\n",
       " u'flyback': 48976,\n",
       " u'subj': 97792,\n",
       " u'cj1d': 34946,\n",
       " u'20864': 7309,\n",
       " u'traonpps': 102095,\n",
       " u'bhv5k': 29006,\n",
       " u'twincom': 102891,\n",
       " u'puors': 85172,\n",
       " u'30a': 9797,\n",
       " u'cj1v': 34960,\n",
       " u'nx1600': 77719,\n",
       " u'040493023201': 791,\n",
       " u'xkc': 111155,\n",
       " u'936era': 19086,\n",
       " u'_debates_': 20754,\n",
       " u'xkg': 111163,\n",
       " u'ammeter': 24379,\n",
       " u'uf5': 103606,\n",
       " u'pasadena': 80975,\n",
       " u'orstcs': 79502,\n",
       " u'640x400x256': 14592,\n",
       " u'p4f': 80274,\n",
       " u'16v6': 4707,\n",
       " u'air3qjwm': 23556,\n",
       " u'xkq': 111169,\n",
       " u'multilist': 74451,\n",
       " u't3s1ecr6': 99151,\n",
       " u'1qhs6g6k98': 6395,\n",
       " u'paycheque': 81189,\n",
       " u'palms': 80627,\n",
       " u'yodicet': 112660,\n",
       " u'm0v3': 68084,\n",
       " u'palme': 80622,\n",
       " u'jjjjjkbxn': 61510,\n",
       " u'xthe': 111617,\n",
       " u'overcolonized': 79863,\n",
       " u'izvimq': 60445,\n",
       " u'aragorn': 25433,\n",
       " u'81ag': 17609,\n",
       " u'explosions': 46756,\n",
       " u'loren': 67299,\n",
       " u'contadictorily': 36861,\n",
       " u'qmjhl': 86026,\n",
       " u'shootout': 94027,\n",
       " u'80386': 17480,\n",
       " u'80387': 17483,\n",
       " u'8983': 18114,\n",
       " u'omran': 78937,\n",
       " u'8rcs': 18566,\n",
       " u'pelt': 81493,\n",
       " u'unresonable': 104709,\n",
       " u'rasters': 87331,\n",
       " u'childs': 34371,\n",
       " u'b0dax': 27090,\n",
       " u'chaim': 33966,\n",
       " u'corps': 37297,\n",
       " u'vza2': 107661,\n",
       " u'1qup1linnotb': 6626,\n",
       " u'aohs': 25024,\n",
       " u'aspartate': 25987,\n",
       " u'embrittles': 44868,\n",
       " u'icts01': 57397,\n",
       " u'chair': 33972,\n",
       " u'6fuv2zr1': 15316,\n",
       " u'8864': 18037,\n",
       " u'amplification': 24421,\n",
       " u'grapples': 52629,\n",
       " u'grappler': 52628,\n",
       " u'themseles': 100570,\n",
       " u'precognition': 83865,\n",
       " u'jumalat': 62207,\n",
       " u'balled': 27683,\n",
       " u'a0000': 21553,\n",
       " u'kfij': 63444,\n",
       " u'macho': 69033,\n",
       " u'oversight': 79959,\n",
       " u'tenacious': 100169,\n",
       " u'72plnki': 16121,\n",
       " u'jerk': 61187,\n",
       " u'lard': 65423,\n",
       " u'olympus': 78878,\n",
       " u'sichase': 94246,\n",
       " u'embark': 44841,\n",
       " u'gloomy': 51969,\n",
       " u'dyanimic': 43429,\n",
       " u'crackdowns': 37698,\n",
       " u'rechargable': 87848,\n",
       " u'exact': 46419,\n",
       " u'minute': 72216,\n",
       " u'uhx0': 103685,\n",
       " u'reining': 88355,\n",
       " u'c5geh5': 31931,\n",
       " u'pela': 81474,\n",
       " u'spacsun': 95867,\n",
       " u'skewed': 94744,\n",
       " u'facman': 47333,\n",
       " u'gscott': 53039,\n",
       " u'qvf1ac6_': 86574,\n",
       " u'75vzlkjz728f': 16596,\n",
       " u'nastness': 75629,\n",
       " u'opstad': 79188,\n",
       " u'multiprocessing': 74479,\n",
       " u'magupati': 69250,\n",
       " u'brent_gilchrist': 30549,\n",
       " u'xenophobe': 110948,\n",
       " u'j9hu': 60691,\n",
       " u'hindered': 55306,\n",
       " u'da_tinker1': 39118,\n",
       " u'nei4': 76016,\n",
       " u'chopping': 34500,\n",
       " u'm2d1eax': 68223,\n",
       " u'bastardisation': 28005,\n",
       " u'incrementally': 58474,\n",
       " u'j9hj': 60690,\n",
       " u'g3zf': 50475,\n",
       " u'f9nw': 47260,\n",
       " ...}"
      ]
     },
     "execution_count": 43,
     "metadata": {},
     "output_type": "execute_result"
    }
   ],
   "source": [
    "vectorizer.vocabulary_"
   ]
  },
  {
   "cell_type": "markdown",
   "metadata": {},
   "source": [
    "Воспользуемся логистической регрессией (линейный алгоритм для классификации), обучим его и оценим качество (долю верно предсказанных категорий) на отложенной выборке."
   ]
  },
  {
   "cell_type": "code",
   "execution_count": 28,
   "metadata": {
    "collapsed": true
   },
   "outputs": [],
   "source": [
    "from sklearn.linear_model import LogisticRegression"
   ]
  },
  {
   "cell_type": "code",
   "execution_count": 29,
   "metadata": {
    "collapsed": true
   },
   "outputs": [],
   "source": [
    "classifier = LogisticRegression()\n",
    "classifier.fit(train_vectors, y_train)\n",
    "y_predict = classifier.predict(test_vectors)"
   ]
  },
  {
   "cell_type": "code",
   "execution_count": 30,
   "metadata": {},
   "outputs": [
    {
     "data": {
      "text/plain": [
       "0.88394698085419732"
      ]
     },
     "execution_count": 30,
     "metadata": {},
     "output_type": "execute_result"
    }
   ],
   "source": [
    "np.mean(y_predict == y_test)"
   ]
  },
  {
   "cell_type": "markdown",
   "metadata": {},
   "source": [
    "Опять же мы делали все те же самые действия и использовали почти только один scikit-learn.\n",
    "\n",
    "Нам так же могло понадобиться:\n",
    "- закодировать строковый категориальный признак числами (sklearn.preprocessing.LabelEncoding)\n",
    "- воспользовать одной из реализованных метрик для оценки качества (sklearn.metrics)\n",
    "- ..."
   ]
  }
 ],
 "metadata": {
  "kernelspec": {
   "display_name": "Python 2",
   "language": "python",
   "name": "python2"
  },
  "language_info": {
   "codemirror_mode": {
    "name": "ipython",
    "version": 2
   },
   "file_extension": ".py",
   "mimetype": "text/x-python",
   "name": "python",
   "nbconvert_exporter": "python",
   "pygments_lexer": "ipython2",
   "version": "2.7.13"
  }
 },
 "nbformat": 4,
 "nbformat_minor": 2
}
